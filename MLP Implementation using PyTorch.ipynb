{
 "cells": [
  {
   "cell_type": "code",
   "execution_count": 14,
   "id": "d623182d-ec3f-4a9f-8289-66fe22c4ec77",
   "metadata": {},
   "outputs": [],
   "source": [
    "import torch\n",
    "import pandas as pd\n",
    "import numpy as np\n",
    "from sklearn.model_selection import train_test_split\n",
    "from torch.utils.data import DataLoader\n",
    "from sklearn.preprocessing import StandardScaler\n",
    "from sklearn.metrics import mean_squared_error, r2_score"
   ]
  },
  {
   "cell_type": "code",
   "execution_count": 15,
   "id": "e00074e2-2cb6-4c24-a181-6e911c468284",
   "metadata": {},
   "outputs": [
    {
     "data": {
      "text/html": [
       "<div>\n",
       "<style scoped>\n",
       "    .dataframe tbody tr th:only-of-type {\n",
       "        vertical-align: middle;\n",
       "    }\n",
       "\n",
       "    .dataframe tbody tr th {\n",
       "        vertical-align: top;\n",
       "    }\n",
       "\n",
       "    .dataframe thead th {\n",
       "        text-align: right;\n",
       "    }\n",
       "</style>\n",
       "<table border=\"1\" class=\"dataframe\">\n",
       "  <thead>\n",
       "    <tr style=\"text-align: right;\">\n",
       "      <th></th>\n",
       "      <th>exports</th>\n",
       "      <th>imports</th>\n",
       "      <th>industrial production growth rate</th>\n",
       "      <th>investment</th>\n",
       "      <th>unemployement rate</th>\n",
       "      <th>gdp</th>\n",
       "    </tr>\n",
       "  </thead>\n",
       "  <tbody>\n",
       "    <tr>\n",
       "      <th>0</th>\n",
       "      <td>0.126491</td>\n",
       "      <td>0.024505</td>\n",
       "      <td>0.280423</td>\n",
       "      <td>0.161121</td>\n",
       "      <td>0.351585</td>\n",
       "      <td>0.026382</td>\n",
       "    </tr>\n",
       "    <tr>\n",
       "      <th>1</th>\n",
       "      <td>0.181904</td>\n",
       "      <td>0.062921</td>\n",
       "      <td>0.375661</td>\n",
       "      <td>0.194396</td>\n",
       "      <td>0.110951</td>\n",
       "      <td>0.119814</td>\n",
       "    </tr>\n",
       "    <tr>\n",
       "      <th>2</th>\n",
       "      <td>0.146305</td>\n",
       "      <td>0.082021</td>\n",
       "      <td>0.330688</td>\n",
       "      <td>0.217163</td>\n",
       "      <td>0.040346</td>\n",
       "      <td>0.021420</td>\n",
       "    </tr>\n",
       "    <tr>\n",
       "      <th>3</th>\n",
       "      <td>0.085787</td>\n",
       "      <td>0.031111</td>\n",
       "      <td>0.343915</td>\n",
       "      <td>0.166375</td>\n",
       "      <td>0.053314</td>\n",
       "      <td>0.015557</td>\n",
       "    </tr>\n",
       "    <tr>\n",
       "      <th>4</th>\n",
       "      <td>0.353292</td>\n",
       "      <td>0.173487</td>\n",
       "      <td>0.259259</td>\n",
       "      <td>0.199650</td>\n",
       "      <td>0.092219</td>\n",
       "      <td>0.087047</td>\n",
       "    </tr>\n",
       "  </tbody>\n",
       "</table>\n",
       "</div>"
      ],
      "text/plain": [
       "    exports   imports  industrial production growth rate  investment  \\\n",
       "0  0.126491  0.024505                           0.280423    0.161121   \n",
       "1  0.181904  0.062921                           0.375661    0.194396   \n",
       "2  0.146305  0.082021                           0.330688    0.217163   \n",
       "3  0.085787  0.031111                           0.343915    0.166375   \n",
       "4  0.353292  0.173487                           0.259259    0.199650   \n",
       "\n",
       "   unemployement rate       gdp  \n",
       "0            0.351585  0.026382  \n",
       "1            0.110951  0.119814  \n",
       "2            0.040346  0.021420  \n",
       "3            0.053314  0.015557  \n",
       "4            0.092219  0.087047  "
      ]
     },
     "execution_count": 15,
     "metadata": {},
     "output_type": "execute_result"
    }
   ],
   "source": [
    "df = pd.read_csv('clean.csv')\n",
    "df.head()"
   ]
  },
  {
   "cell_type": "code",
   "execution_count": 16,
   "id": "1c62289a-0a00-484b-bfd2-23eec394c111",
   "metadata": {},
   "outputs": [],
   "source": [
    "X = df.drop('gdp', axis=1).values\n",
    "y = df['gdp'].values"
   ]
  },
  {
   "cell_type": "code",
   "execution_count": 22,
   "id": "7787025f-39d8-469e-bec9-dd1e840a61ff",
   "metadata": {},
   "outputs": [
    {
     "data": {
      "text/plain": [
       "(137, 5)"
      ]
     },
     "execution_count": 22,
     "metadata": {},
     "output_type": "execute_result"
    }
   ],
   "source": [
    "X.shape"
   ]
  },
  {
   "cell_type": "code",
   "execution_count": 25,
   "id": "8bd6fbd1-0461-4066-8b73-c2c4cfe56149",
   "metadata": {},
   "outputs": [
    {
     "data": {
      "text/plain": [
       "array([0.12649071, 0.02450542, 0.28042328, 0.16112084, 0.35158501])"
      ]
     },
     "execution_count": 25,
     "metadata": {},
     "output_type": "execute_result"
    }
   ],
   "source": [
    "X[0]"
   ]
  },
  {
   "cell_type": "code",
   "execution_count": 26,
   "id": "c2f1f9bd-029d-4fb9-b86e-3ba628e815cc",
   "metadata": {},
   "outputs": [
    {
     "data": {
      "text/plain": [
       "0.0263822677281101"
      ]
     },
     "execution_count": 26,
     "metadata": {},
     "output_type": "execute_result"
    }
   ],
   "source": [
    "y[0]"
   ]
  },
  {
   "cell_type": "code",
   "execution_count": 17,
   "id": "49b54288-8b90-4c0d-b356-1b0dfb17a4b0",
   "metadata": {},
   "outputs": [],
   "source": [
    "X_train, X_test, y_train, y_test = train_test_split(X, y, test_size=0.2, random_state=42)"
   ]
  },
  {
   "cell_type": "code",
   "execution_count": 20,
   "id": "faf10c9d-7cd8-4224-9ee7-8f60cb15d14c",
   "metadata": {},
   "outputs": [],
   "source": [
    "class factbook_data:\n",
    "\n",
    "    def __init__(self, X, y, scale_data=True):\n",
    "        if not torch.is_tensor(X) and not torch.is_tensor(y):\n",
    "            if scale_data:\n",
    "                X = StandardScaler().fit_transform(X)\n",
    "        self.X = torch.from_numpy(X)\n",
    "        self.y = torch.from_numpy(y)\n",
    "\n",
    "    def __len__(self):\n",
    "        return len(self.X)\n",
    "\n",
    "    def __getitem__(self, i):\n",
    "        return self.X[i], self.y[i]"
   ]
  },
  {
   "cell_type": "code",
   "execution_count": 33,
   "id": "8bf66832-8e03-49f8-916c-8c3f36744d5c",
   "metadata": {},
   "outputs": [
    {
     "name": "stdout",
     "output_type": "stream",
     "text": [
      "137\n"
     ]
    },
    {
     "data": {
      "text/plain": [
       "(tensor([ 0.8809, -0.0548, -0.7353, -0.6388,  1.1484], dtype=torch.float64),\n",
       " tensor(0.0264, dtype=torch.float64))"
      ]
     },
     "execution_count": 33,
     "metadata": {},
     "output_type": "execute_result"
    }
   ],
   "source": [
    "obj = factbook_data(X, y, scale_data=True)\n",
    "print(obj.__len__())\n",
    "obj.__getitem__(0)"
   ]
  },
  {
   "cell_type": "code",
   "execution_count": 30,
   "id": "8a2199dc-2853-4db7-a424-91f0096ed2ba",
   "metadata": {},
   "outputs": [],
   "source": [
    "class MLP(nn.Module):\n",
    "    def __init__(self):\n",
    "        super().__init__()\n",
    "        self.layers = nn.Sequential(\n",
    "            nn.Linear(5, 64),\n",
    "            nn.ReLU(),\n",
    "            nn.Linear(64, 32),\n",
    "            nn.ReLU(),\n",
    "            nn.Linear(32, 1)\n",
    "        )\n",
    "\n",
    "    def forward(self, X):\n",
    "        return self.layers(X)"
   ]
  },
  {
   "cell_type": "code",
   "execution_count": 37,
   "id": "c495b58b-48d8-405c-b67e-fa7b80f1c107",
   "metadata": {},
   "outputs": [],
   "source": [
    "if __name__=='__main__':\n",
    "    torch.manual_seed(42)\n",
    "    X,y = X, y"
   ]
  },
  {
   "cell_type": "code",
   "execution_count": 42,
   "id": "73e0af93-eef4-4732-aff5-12d45c303b94",
   "metadata": {},
   "outputs": [],
   "source": [
    "dataset = factbook_data(X, y, scale_data=False)\n",
    "trainloader = torch.utils.data.DataLoader(dataset, batch_size=10, shuffle=True, num_workers=0)\n",
    "testloader = torch.utils.data.DataLoader(dataset, batch_size=10, shuffle=True, num_workers=0)"
   ]
  },
  {
   "cell_type": "code",
   "execution_count": 40,
   "id": "48971694-cac3-4287-8013-7abf46dbfad7",
   "metadata": {},
   "outputs": [],
   "source": [
    "mlp = MLP()\n",
    "\n",
    "loss_function = nn.L1Loss()\n",
    "optimizer = torch.optim.Adagrad(mlp.parameters(), lr=1e-4)"
   ]
  },
  {
   "cell_type": "code",
   "execution_count": 46,
   "id": "58db60db-85be-48ea-b0d4-2d26c4a81ca0",
   "metadata": {},
   "outputs": [
    {
     "name": "stdout",
     "output_type": "stream",
     "text": [
      "Starting Epoch: 1\n",
      "Loss after mini batch 1: 6.966693699359894e-05\n",
      "Loss after mini batch 11: 0.0004739650245755911\n",
      "Epoch 1 finished\n",
      "Starting Epoch: 2\n",
      "Loss after mini batch 1: 6.283991038799286e-05\n",
      "Loss after mini batch 11: 0.00041408875212073327\n",
      "Epoch 2 finished\n",
      "Starting Epoch: 3\n",
      "Loss after mini batch 1: 7.268203794956208e-05\n",
      "Loss after mini batch 11: 0.00040532084554433824\n",
      "Epoch 3 finished\n",
      "Starting Epoch: 4\n",
      "Loss after mini batch 1: 3.436998277902603e-05\n",
      "Loss after mini batch 11: 0.0004175704177469015\n",
      "Epoch 4 finished\n",
      "Starting Epoch: 5\n",
      "Loss after mini batch 1: 2.9189512133598328e-05\n",
      "Loss after mini batch 11: 0.0004847290385514498\n",
      "Epoch 5 finished\n",
      "Training has completed\n"
     ]
    }
   ],
   "source": [
    "for epoch in range(0, 5):\n",
    "    print(f'Starting Epoch: {epoch+1}')\n",
    "\n",
    "    current_loss = 0.0\n",
    "\n",
    "    for i, data in enumerate(trainloader, 0):\n",
    "        inputs, targets = data\n",
    "        inputs, targets = inputs.float(), targets.float()\n",
    "        targets = targets.reshape((targets.shape[0]), 1)\n",
    "\n",
    "        optimizer.zero_grad()\n",
    "\n",
    "        outputs = mlp(inputs)\n",
    "\n",
    "        loss = loss_function(outputs, targets)\n",
    "\n",
    "        loss.backward()\n",
    "\n",
    "        optimizer.step()\n",
    "\n",
    "        current_loss += loss.item()\n",
    "\n",
    "        if i%10==0:\n",
    "            print(f'Loss after mini batch {i+1}: {current_loss/500}')\n",
    "            current_loss = 0.0\n",
    "\n",
    "    print(f'Epoch {epoch+1} finished')\n",
    "\n",
    "print('Training has completed')"
   ]
  },
  {
   "cell_type": "code",
   "execution_count": 47,
   "id": "9132e523-82f6-4eb3-bdec-3bd40c4865a2",
   "metadata": {},
   "outputs": [],
   "source": [
    "test_data = torch.from_numpy(X_test).float()\n",
    "test_targets = torch.from_numpy(y_test).float()"
   ]
  },
  {
   "cell_type": "code",
   "execution_count": 48,
   "id": "47008cb1-32e3-4fae-adea-3f84d6427b6d",
   "metadata": {},
   "outputs": [
    {
     "data": {
      "text/plain": [
       "MLP(\n",
       "  (layers): Sequential(\n",
       "    (0): Linear(in_features=5, out_features=64, bias=True)\n",
       "    (1): ReLU()\n",
       "    (2): Linear(in_features=64, out_features=32, bias=True)\n",
       "    (3): ReLU()\n",
       "    (4): Linear(in_features=32, out_features=1, bias=True)\n",
       "  )\n",
       ")"
      ]
     },
     "execution_count": 48,
     "metadata": {},
     "output_type": "execute_result"
    }
   ],
   "source": [
    "mlp.eval()"
   ]
  },
  {
   "cell_type": "code",
   "execution_count": 49,
   "id": "4bca0a41-6f8e-424b-984a-7f0f6a546fb7",
   "metadata": {},
   "outputs": [
    {
     "name": "stdout",
     "output_type": "stream",
     "text": [
      "Mean Squared Error:  0.003841374886917585\n",
      "R2 Score:  -0.0537770242367368\n"
     ]
    }
   ],
   "source": [
    "with torch.no_grad():\n",
    "    outputs = mlp(test_data)\n",
    "    predicted_labels = outputs.squeeze().tolist()\n",
    "\n",
    "predicted_labels = np.array(predicted_labels)\n",
    "test_targets = np.array(test_targets)\n",
    "\n",
    "mse = mean_squared_error(test_targets, predicted_labels)\n",
    "r2 = r2_score(test_targets, predicted_labels)\n",
    "\n",
    "print(\"Mean Squared Error: \", mse)\n",
    "print(\"R2 Score: \", r2)"
   ]
  },
  {
   "cell_type": "code",
   "execution_count": null,
   "id": "2da2ae65-a4bf-479b-ab5c-46ae0a5fa3ab",
   "metadata": {},
   "outputs": [],
   "source": []
  }
 ],
 "metadata": {
  "kernelspec": {
   "display_name": "tf",
   "language": "python",
   "name": "tf"
  },
  "language_info": {
   "codemirror_mode": {
    "name": "ipython",
    "version": 3
   },
   "file_extension": ".py",
   "mimetype": "text/x-python",
   "name": "python",
   "nbconvert_exporter": "python",
   "pygments_lexer": "ipython3",
   "version": "3.9.19"
  }
 },
 "nbformat": 4,
 "nbformat_minor": 5
}
